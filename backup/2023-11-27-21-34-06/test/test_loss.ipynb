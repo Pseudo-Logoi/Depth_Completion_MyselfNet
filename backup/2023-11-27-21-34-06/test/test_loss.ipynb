{
 "cells": [
  {
   "cell_type": "code",
   "execution_count": 1,
   "metadata": {},
   "outputs": [
    {
     "name": "stdout",
     "output_type": "stream",
     "text": [
      "gt.shape:  torch.Size([1, 1, 16, 16])\n",
      "pred_full.shape:  torch.Size([1, 1, 16, 16])\n",
      "pred_1_2.shape:  torch.Size([1, 1, 8, 8])\n",
      "pred_1_4.shape:  torch.Size([1, 1, 4, 4])\n",
      "pred_1_8.shape:  torch.Size([1, 1, 2, 2])\n",
      "pred_1_16.shape:  torch.Size([1, 1, 1, 1])\n",
      "loss:  tensor(0.9479)\n"
     ]
    }
   ],
   "source": [
    "import os, sys\n",
    "\n",
    "sys.path.append(\"../src\")\n",
    "\n",
    "import torch\n",
    "import torch.nn.functional as F\n",
    "from loss.netloss import NetLoss\n",
    "from config_settings import settings\n",
    "\n",
    "B = 1\n",
    "C = 1\n",
    "H = 16\n",
    "W = 16\n",
    "\n",
    "gt = torch.rand(B, C, H, W)\n",
    "print(\"gt.shape: \", gt.shape)\n",
    "\n",
    "pred_full = gt\n",
    "print(\"pred_full.shape: \", pred_full.shape)\n",
    "\n",
    "pred_1_2 = F.interpolate(pred_full, scale_factor=0.5, mode=\"nearest\")\n",
    "print(\"pred_1_2.shape: \", pred_1_2.shape)\n",
    "\n",
    "pred_1_4 = F.interpolate(pred_1_2, scale_factor=0.5, mode=\"nearest\")\n",
    "print(\"pred_1_4.shape: \", pred_1_4.shape)\n",
    "\n",
    "pred_1_8 = F.interpolate(pred_1_4, scale_factor=0.5, mode=\"nearest\")\n",
    "print(\"pred_1_8.shape: \", pred_1_8.shape)\n",
    "\n",
    "pred_1_16 = F.interpolate(pred_1_8, scale_factor=0.5, mode=\"nearest\")\n",
    "print(\"pred_1_16.shape: \", pred_1_16.shape)\n",
    "\n",
    "# pred_full = torch.rand(4, 1, 256, 256)\n",
    "# pred_1_2 = torch.rand(4, 1, 128, 128)\n",
    "# pred_1_4 = torch.rand(4, 1, 64, 64)\n",
    "# pred_1_8 = torch.rand(4, 1, 32, 32)\n",
    "# pred_1_16 = torch.rand(4, 1, 16, 16)\n",
    "\n",
    "loss = NetLoss(max_depth=settings.max_depth, decay=0.8, alpha=1.0, beta=1.0)\n",
    "\n",
    "loss = loss(gt, pred_full, pred_1_2, pred_1_4, pred_1_8, pred_1_16)\n",
    "\n",
    "print(\"loss: \", loss)"
   ]
  }
 ],
 "metadata": {
  "kernelspec": {
   "display_name": "py311-pytorch",
   "language": "python",
   "name": "python3"
  },
  "language_info": {
   "codemirror_mode": {
    "name": "ipython",
    "version": 3
   },
   "file_extension": ".py",
   "mimetype": "text/x-python",
   "name": "python",
   "nbconvert_exporter": "python",
   "pygments_lexer": "ipython3",
   "version": "3.11.3"
  }
 },
 "nbformat": 4,
 "nbformat_minor": 2
}
