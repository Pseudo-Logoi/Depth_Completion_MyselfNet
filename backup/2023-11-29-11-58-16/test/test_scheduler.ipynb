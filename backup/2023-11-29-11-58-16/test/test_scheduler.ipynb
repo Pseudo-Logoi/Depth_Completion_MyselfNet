{
 "cells": [
  {
   "cell_type": "code",
   "execution_count": 1,
   "metadata": {},
   "outputs": [],
   "source": [
    "import os, sys\n",
    "import torch.optim.lr_scheduler as lrs\n",
    "\n",
    "optimizer = torch.optim.SGD(model.parameters(), lr=0.1, momentum=0.9)"
   ]
  },
  {
   "cell_type": "markdown",
   "metadata": {},
   "source": [
    "# LambdaLR"
   ]
  },
  {
   "cell_type": "code",
   "execution_count": null,
   "metadata": {},
   "outputs": [],
   "source": [
    "class LRFactor:\n",
    "    def __init__(self, decay, gamma):\n",
    "        assert len(decay) == len(gamma)\n",
    "\n",
    "        self.decay = decay\n",
    "        self.gamma = gamma\n",
    "\n",
    "    def get_factor(self, epoch):\n",
    "        for d, g in zip(self.decay, self.gamma):\n",
    "            if epoch < d:\n",
    "                return g\n",
    "        return self.gamma[-1]\n",
    "\n",
    "\n",
    "calculator = LRFactor(decay, gamma)\n",
    "scheduler = lrs.LambdaLR(optimizer, calculator.get_factor)"
   ]
  }
 ],
 "metadata": {
  "kernelspec": {
   "display_name": "py311-pytorch",
   "language": "python",
   "name": "python3"
  },
  "language_info": {
   "codemirror_mode": {
    "name": "ipython",
    "version": 3
   },
   "file_extension": ".py",
   "mimetype": "text/x-python",
   "name": "python",
   "nbconvert_exporter": "python",
   "pygments_lexer": "ipython3",
   "version": "3.11.3"
  }
 },
 "nbformat": 4,
 "nbformat_minor": 2
}
