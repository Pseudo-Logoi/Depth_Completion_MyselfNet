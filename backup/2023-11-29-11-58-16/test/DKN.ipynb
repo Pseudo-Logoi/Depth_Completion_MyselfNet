{
 "cells": [
  {
   "cell_type": "code",
   "execution_count": 1,
   "metadata": {},
   "outputs": [],
   "source": [
    "import os, sys\n",
    "\n",
    "sys.path.append(os.path.abspath(os.path.join(\"../src/\")))\n",
    "from models.Encoder import *"
   ]
  },
  {
   "cell_type": "markdown",
   "metadata": {},
   "source": [
    "# linspace"
   ]
  },
  {
   "cell_type": "code",
   "execution_count": 10,
   "metadata": {},
   "outputs": [
    {
     "name": "stdout",
     "output_type": "stream",
     "text": [
      "tensor([7., 8., 9.])\n"
     ]
    }
   ],
   "source": [
    "k = 15\n",
    "r = 3\n",
    "print(torch.linspace(k // 2, k // 2 + r - 1, steps=3))"
   ]
  },
  {
   "cell_type": "markdown",
   "metadata": {},
   "source": [
    "# grid_generator"
   ]
  },
  {
   "cell_type": "code",
   "execution_count": 2,
   "metadata": {},
   "outputs": [
    {
     "name": "stdout",
     "output_type": "stream",
     "text": [
      "torch.Size([3, 3]) torch.Size([3, 3])\n",
      "torch.Size([3, 3, 2])\n",
      "torch.Size([3, 3, 2])\n"
     ]
    }
   ],
   "source": [
    "grid = grid_generator(15, 3, 1)"
   ]
  },
  {
   "cell_type": "code",
   "execution_count": 12,
   "metadata": {},
   "outputs": [
    {
     "name": "stdout",
     "output_type": "stream",
     "text": [
      "torch.Size([1, 3, 3, 2])\n"
     ]
    }
   ],
   "source": [
    "print(grid.shape)"
   ]
  },
  {
   "cell_type": "code",
   "execution_count": 13,
   "metadata": {},
   "outputs": [
    {
     "data": {
      "text/plain": [
       "tensor([[[[7., 7.],\n",
       "          [7., 8.],\n",
       "          [7., 9.]],\n",
       "\n",
       "         [[8., 7.],\n",
       "          [8., 8.],\n",
       "          [8., 9.]],\n",
       "\n",
       "         [[9., 7.],\n",
       "          [9., 8.],\n",
       "          [9., 9.]]]])"
      ]
     },
     "execution_count": 13,
     "metadata": {},
     "output_type": "execute_result"
    }
   ],
   "source": [
    "grid"
   ]
  }
 ],
 "metadata": {
  "kernelspec": {
   "display_name": "py311-pytorch",
   "language": "python",
   "name": "python3"
  },
  "language_info": {
   "codemirror_mode": {
    "name": "ipython",
    "version": 3
   },
   "file_extension": ".py",
   "mimetype": "text/x-python",
   "name": "python",
   "nbconvert_exporter": "python",
   "pygments_lexer": "ipython3",
   "version": "3.11.3"
  }
 },
 "nbformat": 4,
 "nbformat_minor": 2
}
